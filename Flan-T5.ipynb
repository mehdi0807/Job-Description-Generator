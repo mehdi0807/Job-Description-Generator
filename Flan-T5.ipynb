{
 "cells": [
  {
   "cell_type": "markdown",
   "id": "43c4e3aa",
   "metadata": {},
   "source": [
    "# Importing packages and data"
   ]
  },
  {
   "cell_type": "code",
   "execution_count": 1,
   "id": "7bb6d53b",
   "metadata": {},
   "outputs": [],
   "source": [
    "import pandas as pd\n",
    "from torch.utils.data import Dataset\n",
    "import torch\n",
    "import matplotlib.pyplot as plt\n",
    "import logging\n",
    "logging.getLogger(\"transformers.tokenization_utils_base\").setLevel(logging.ERROR)"
   ]
  },
  {
   "cell_type": "code",
   "execution_count": 2,
   "id": "85ed034d",
   "metadata": {},
   "outputs": [
    {
     "data": {
      "text/html": [
       "<div>\n",
       "<style scoped>\n",
       "    .dataframe tbody tr th:only-of-type {\n",
       "        vertical-align: middle;\n",
       "    }\n",
       "\n",
       "    .dataframe tbody tr th {\n",
       "        vertical-align: top;\n",
       "    }\n",
       "\n",
       "    .dataframe thead th {\n",
       "        text-align: right;\n",
       "    }\n",
       "</style>\n",
       "<table border=\"1\" class=\"dataframe\">\n",
       "  <thead>\n",
       "    <tr style=\"text-align: right;\">\n",
       "      <th></th>\n",
       "      <th>Prompt</th>\n",
       "      <th>Target</th>\n",
       "    </tr>\n",
       "  </thead>\n",
       "  <tbody>\n",
       "    <tr>\n",
       "      <th>0</th>\n",
       "      <td>Write a job description for AI Scientist role ...</td>\n",
       "      <td>Paige is a software company helping pathologis...</td>\n",
       "    </tr>\n",
       "    <tr>\n",
       "      <th>1</th>\n",
       "      <td>Write a job description for Quantitative Resea...</td>\n",
       "      <td>About the Position\\n\\n\\nAt Jane Street, we con...</td>\n",
       "    </tr>\n",
       "    <tr>\n",
       "      <th>2</th>\n",
       "      <td>Write a job description for VP, Data Science r...</td>\n",
       "      <td>We are looking for a VP, Data Science to lead ...</td>\n",
       "    </tr>\n",
       "    <tr>\n",
       "      <th>3</th>\n",
       "      <td>Write a job description for Quantitative Resea...</td>\n",
       "      <td>Job Description\\n\\nQuantitative Researchers at...</td>\n",
       "    </tr>\n",
       "    <tr>\n",
       "      <th>4</th>\n",
       "      <td>Write a job description for Senior Data Engine...</td>\n",
       "      <td>Key Responsibilities\\n\\n- Architect, build, an...</td>\n",
       "    </tr>\n",
       "    <tr>\n",
       "      <th>...</th>\n",
       "      <td>...</td>\n",
       "      <td>...</td>\n",
       "    </tr>\n",
       "    <tr>\n",
       "      <th>1023</th>\n",
       "      <td>Write a job description for JPSC-7975 - Data A...</td>\n",
       "      <td>Overview\\n\\nRole: Data Analyst Lead – Informat...</td>\n",
       "    </tr>\n",
       "    <tr>\n",
       "      <th>1024</th>\n",
       "      <td>Write a job description for Principal Data Eng...</td>\n",
       "      <td>ComResource is looking for a Principal Data En...</td>\n",
       "    </tr>\n",
       "    <tr>\n",
       "      <th>1025</th>\n",
       "      <td>Write a job description for Columbus Data Scie...</td>\n",
       "      <td>#Columbus Data Science Tutor Jobs\\n\\nVarsity T...</td>\n",
       "    </tr>\n",
       "    <tr>\n",
       "      <th>1026</th>\n",
       "      <td>Write a job description for AWS Data Engineer ...</td>\n",
       "      <td>About Us\\n\\nTachyon Technologies is a Digital ...</td>\n",
       "    </tr>\n",
       "    <tr>\n",
       "      <th>1027</th>\n",
       "      <td>Write a job description for Data Analyst â Jun...</td>\n",
       "      <td>Job description\\nInterpret data, analyze resul...</td>\n",
       "    </tr>\n",
       "  </tbody>\n",
       "</table>\n",
       "<p>1028 rows × 2 columns</p>\n",
       "</div>"
      ],
      "text/plain": [
       "                                                 Prompt  \\\n",
       "0     Write a job description for AI Scientist role ...   \n",
       "1     Write a job description for Quantitative Resea...   \n",
       "2     Write a job description for VP, Data Science r...   \n",
       "3     Write a job description for Quantitative Resea...   \n",
       "4     Write a job description for Senior Data Engine...   \n",
       "...                                                 ...   \n",
       "1023  Write a job description for JPSC-7975 - Data A...   \n",
       "1024  Write a job description for Principal Data Eng...   \n",
       "1025  Write a job description for Columbus Data Scie...   \n",
       "1026  Write a job description for AWS Data Engineer ...   \n",
       "1027  Write a job description for Data Analyst â Jun...   \n",
       "\n",
       "                                                 Target  \n",
       "0     Paige is a software company helping pathologis...  \n",
       "1     About the Position\\n\\n\\nAt Jane Street, we con...  \n",
       "2     We are looking for a VP, Data Science to lead ...  \n",
       "3     Job Description\\n\\nQuantitative Researchers at...  \n",
       "4     Key Responsibilities\\n\\n- Architect, build, an...  \n",
       "...                                                 ...  \n",
       "1023  Overview\\n\\nRole: Data Analyst Lead – Informat...  \n",
       "1024  ComResource is looking for a Principal Data En...  \n",
       "1025  #Columbus Data Science Tutor Jobs\\n\\nVarsity T...  \n",
       "1026  About Us\\n\\nTachyon Technologies is a Digital ...  \n",
       "1027  Job description\\nInterpret data, analyze resul...  \n",
       "\n",
       "[1028 rows x 2 columns]"
      ]
     },
     "execution_count": 2,
     "metadata": {},
     "output_type": "execute_result"
    }
   ],
   "source": [
    "data = pd.read_csv('Data Scientist Jobs/Processed_data.csv') # Preprocessed dataset\n",
    "df = pd.read_csv('Data Scientist Jobs/DataScientist.csv', index_col = 0).drop('index', axis=1) # Original dataset\n",
    "data"
   ]
  },
  {
   "cell_type": "markdown",
   "id": "87746be0",
   "metadata": {},
   "source": [
    "# Modeling"
   ]
  },
  {
   "cell_type": "code",
   "execution_count": 3,
   "id": "08d787e0",
   "metadata": {},
   "outputs": [
    {
     "data": {
      "text/plain": [
       "Dataset({\n",
       "    features: ['Prompt', 'Target'],\n",
       "    num_rows: 1028\n",
       "})"
      ]
     },
     "execution_count": 3,
     "metadata": {},
     "output_type": "execute_result"
    }
   ],
   "source": [
    "from datasets import Dataset\n",
    "dataset = Dataset.from_pandas(data)\n",
    "dataset"
   ]
  },
  {
   "cell_type": "code",
   "execution_count": 4,
   "id": "c1b35a3d",
   "metadata": {},
   "outputs": [
    {
     "data": {
      "text/plain": [
       "DatasetDict({\n",
       "    train: Dataset({\n",
       "        features: ['Prompt', 'Target'],\n",
       "        num_rows: 822\n",
       "    })\n",
       "    validation: Dataset({\n",
       "        features: ['Prompt', 'Target'],\n",
       "        num_rows: 206\n",
       "    })\n",
       "})"
      ]
     },
     "execution_count": 4,
     "metadata": {},
     "output_type": "execute_result"
    }
   ],
   "source": [
    "# Train, validation split\n",
    "datasets = dataset.train_test_split(train_size=0.8, seed=42)\n",
    "datasets[\"validation\"] = datasets.pop(\"test\")\n",
    "datasets"
   ]
  },
  {
   "cell_type": "code",
   "execution_count": 5,
   "id": "39e45fb0",
   "metadata": {},
   "outputs": [],
   "source": [
    "# Load the Flan-t5-base model and tokenizer\n",
    "from transformers import AutoTokenizer, AutoModelForSeq2SeqLM, DataCollatorWithPadding, Trainer, TrainingArguments\n",
    "tokenizer = AutoTokenizer.from_pretrained(\"google/flan-t5-base\")\n",
    "model = AutoModelForSeq2SeqLM.from_pretrained(\"google/flan-t5-base\")"
   ]
  },
  {
   "cell_type": "code",
   "execution_count": 6,
   "id": "0cda5398",
   "metadata": {},
   "outputs": [],
   "source": [
    "# This is a function I used to tokenize the prompts and targets\n",
    "def tokenize_function(example):\n",
    "    \"\"\" Tokenize the 'prompt' and 'target' columns in the dataset \"\"\"\n",
    "    \n",
    "    # Tokenize both 'prompt' and 'target' columns\n",
    "    tokenized_prompt = tokenizer(example['Prompt'], truncation=True, padding=True)\n",
    "    tokenized_target = tokenizer(example['Target'], truncation=True, padding='max_length', max_length=512)\n",
    "\n",
    "    # Return a dictionary with the tokenized versions\n",
    "    return {\n",
    "        'input_ids': tokenized_prompt['input_ids'],\n",
    "        'attention_mask': tokenized_prompt['attention_mask'],\n",
    "        'labels': tokenized_target['input_ids']\n",
    "    }"
   ]
  },
  {
   "cell_type": "code",
   "execution_count": 7,
   "id": "a3bbc8fd",
   "metadata": {},
   "outputs": [
    {
     "data": {
      "application/vnd.jupyter.widget-view+json": {
       "model_id": "a3f75687a98d4649b04bcf38957f9f83",
       "version_major": 2,
       "version_minor": 0
      },
      "text/plain": [
       "Map:   0%|          | 0/822 [00:00<?, ? examples/s]"
      ]
     },
     "metadata": {},
     "output_type": "display_data"
    },
    {
     "data": {
      "application/vnd.jupyter.widget-view+json": {
       "model_id": "2cb4e7efcef3482298f4c52f81bdc954",
       "version_major": 2,
       "version_minor": 0
      },
      "text/plain": [
       "Map:   0%|          | 0/206 [00:00<?, ? examples/s]"
      ]
     },
     "metadata": {},
     "output_type": "display_data"
    }
   ],
   "source": [
    "tokenized_datasets = datasets.map(tokenize_function, batched=True)\n",
    "data_collator = DataCollatorWithPadding(tokenizer=tokenizer)"
   ]
  },
  {
   "cell_type": "code",
   "execution_count": 8,
   "id": "0ae308d3",
   "metadata": {},
   "outputs": [],
   "source": [
    "# Removing useless columns\n",
    "tokenized_datasets = tokenized_datasets.remove_columns(['Prompt', 'Target'])\n",
    "tokenized_datasets.set_format(\"torch\")"
   ]
  },
  {
   "cell_type": "code",
   "execution_count": 9,
   "id": "d2c080e7",
   "metadata": {},
   "outputs": [
    {
     "data": {
      "text/plain": [
       "['input_ids', 'attention_mask', 'labels']"
      ]
     },
     "execution_count": 9,
     "metadata": {},
     "output_type": "execute_result"
    }
   ],
   "source": [
    "tokenized_datasets[\"train\"].column_names"
   ]
  },
  {
   "cell_type": "code",
   "execution_count": 10,
   "id": "88209c7f",
   "metadata": {},
   "outputs": [
    {
     "data": {
      "text/plain": [
       "['input_ids', 'attention_mask', 'labels']"
      ]
     },
     "execution_count": 10,
     "metadata": {},
     "output_type": "execute_result"
    }
   ],
   "source": [
    "tokenized_datasets[\"validation\"].column_names"
   ]
  },
  {
   "cell_type": "code",
   "execution_count": 11,
   "id": "38086d8f",
   "metadata": {},
   "outputs": [
    {
     "data": {
      "text/plain": [
       "device(type='cuda')"
      ]
     },
     "execution_count": 11,
     "metadata": {},
     "output_type": "execute_result"
    }
   ],
   "source": [
    "# Use my gpu to make training faster\n",
    "device = torch.device(\"cuda\" if torch.cuda.is_available() else \"cpu\")\n",
    "model.to(device)\n",
    "device"
   ]
  },
  {
   "cell_type": "code",
   "execution_count": 12,
   "id": "54f8eea1",
   "metadata": {},
   "outputs": [],
   "source": [
    "# Creating the dataloaders\n",
    "from torch.utils.data import DataLoader\n",
    "\n",
    "train_dataloader = DataLoader(\n",
    "    tokenized_datasets[\"train\"], shuffle=True, batch_size=2, collate_fn=data_collator\n",
    ")\n",
    "val_dataloader = DataLoader(\n",
    "    tokenized_datasets[\"validation\"], batch_size=8, collate_fn=data_collator\n",
    ")"
   ]
  },
  {
   "cell_type": "code",
   "execution_count": 13,
   "id": "6b9731fc",
   "metadata": {},
   "outputs": [
    {
     "name": "stdout",
     "output_type": "stream",
     "text": [
      "{'input_ids': torch.Size([2, 145]), 'attention_mask': torch.Size([2, 145]), 'labels': torch.Size([2, 512])}\n"
     ]
    }
   ],
   "source": [
    "# Trying an example to make sure everything works fine (I am always afraid of errors :p)\n",
    "for batch in train_dataloader:\n",
    "    break\n",
    "print({k: v.shape for k, v in batch.items()})\n",
    "batch = {k: v.to(device) for k, v in batch.items()}"
   ]
  },
  {
   "cell_type": "code",
   "execution_count": 14,
   "id": "ad1d13a2",
   "metadata": {
    "scrolled": true
   },
   "outputs": [
    {
     "name": "stdout",
     "output_type": "stream",
     "text": [
      "tensor(31.9842, device='cuda:0', grad_fn=<NllLossBackward0>) torch.Size([2, 512, 32128])\n"
     ]
    }
   ],
   "source": [
    "outputs = model(**batch)\n",
    "print(outputs.loss, outputs.logits.shape)"
   ]
  },
  {
   "cell_type": "markdown",
   "id": "3ebfa12c",
   "metadata": {},
   "source": [
    "<b>Everything looks fine !!</b><br>\n",
    "Let's build our training loop"
   ]
  },
  {
   "cell_type": "code",
   "execution_count": 15,
   "id": "ca08ed83",
   "metadata": {},
   "outputs": [
    {
     "name": "stderr",
     "output_type": "stream",
     "text": [
      "C:\\Users\\ACER\\anaconda3\\Lib\\site-packages\\transformers\\optimization.py:411: FutureWarning: This implementation of AdamW is deprecated and will be removed in a future version. Use the PyTorch implementation torch.optim.AdamW instead, or set `no_deprecation_warning=True` to disable this warning\n",
      "  warnings.warn(\n"
     ]
    }
   ],
   "source": [
    "from transformers import AdamW\n",
    "\n",
    "optimizer = AdamW(model.parameters(), lr=5e-5)"
   ]
  },
  {
   "cell_type": "code",
   "execution_count": 16,
   "id": "20d8834e",
   "metadata": {},
   "outputs": [
    {
     "name": "stdout",
     "output_type": "stream",
     "text": [
      "4110\n"
     ]
    }
   ],
   "source": [
    "from transformers import get_scheduler\n",
    "\n",
    "num_epochs = 10\n",
    "num_training_steps = num_epochs * len(train_dataloader)\n",
    "lr_scheduler = get_scheduler(\n",
    "    \"linear\",\n",
    "    optimizer=optimizer,\n",
    "    num_warmup_steps=0,\n",
    "    num_training_steps=num_training_steps,\n",
    ")\n",
    "print(num_training_steps)"
   ]
  },
  {
   "cell_type": "markdown",
   "id": "5f461f51",
   "metadata": {},
   "source": [
    "# Training"
   ]
  },
  {
   "cell_type": "code",
   "execution_count": 17,
   "id": "81b7e33a",
   "metadata": {},
   "outputs": [
    {
     "data": {
      "application/vnd.jupyter.widget-view+json": {
       "model_id": "3cd2605e14614881843756bb79438f31",
       "version_major": 2,
       "version_minor": 0
      },
      "text/plain": [
       "  0%|          | 0/4110 [00:00<?, ?it/s]"
      ]
     },
     "metadata": {},
     "output_type": "display_data"
    },
    {
     "data": {
      "image/png": "[encoded data removed]",
      "text/plain": [
       "<Figure size 1000x500 with 1 Axes>"
      ]
     },
     "metadata": {},
     "output_type": "display_data"
    }
   ],
   "source": [
    "# Training loop\n",
    "\n",
    "from tqdm.auto import tqdm\n",
    "\n",
    "progress_bar = tqdm(range(num_training_steps))\n",
    "training_losses = []  # To store training losses\n",
    "validation_losses = []  # To store validation losses\n",
    "\n",
    "model.train()\n",
    "for epoch in range(num_epochs):\n",
    "    epoch_training_loss = 0.0\n",
    "\n",
    "    for batch in train_dataloader:\n",
    "        batch = {k: v.to(device) for k, v in batch.items()}\n",
    "        outputs = model(**batch)\n",
    "        loss = outputs.loss\n",
    "        loss.backward()\n",
    "\n",
    "        optimizer.step()\n",
    "        lr_scheduler.step()\n",
    "        optimizer.zero_grad()\n",
    "\n",
    "        epoch_training_loss += loss.item()\n",
    "\n",
    "        progress_bar.update(1)\n",
    "\n",
    "    # Calculate and record the average training loss for the epoch\n",
    "    avg_training_loss = epoch_training_loss / len(train_dataloader)\n",
    "    training_losses.append(avg_training_loss)\n",
    "\n",
    "    # Calculate the validation loss at the end of each epoch\n",
    "    model.eval()\n",
    "    with torch.no_grad():\n",
    "        epoch_validation_loss = 0.0\n",
    "        for batch in val_dataloader:\n",
    "            batch = {k: v.to(device) for k, v in batch.items()}\n",
    "            outputs = model(**batch)\n",
    "            loss = outputs.loss\n",
    "            epoch_validation_loss += loss.item()\n",
    "\n",
    "        avg_validation_loss = epoch_validation_loss / len(val_dataloader)\n",
    "        validation_losses.append(avg_validation_loss)\n",
    "\n",
    "    model.train()\n",
    "\n",
    "# Plot the training and validation losses variation over the epochs\n",
    "plt.figure(figsize=(10, 5))\n",
    "plt.plot(training_losses, label='Training Loss')\n",
    "plt.plot(validation_losses, label='Validation Loss')\n",
    "plt.xlabel('Epoch')\n",
    "plt.ylabel('Loss')\n",
    "plt.legend()\n",
    "plt.show()"
   ]
  },
  {
   "cell_type": "code",
   "execution_count": 19,
   "id": "6c534220",
   "metadata": {},
   "outputs": [
    {
     "data": {
      "text/html": [
       "<div>\n",
       "<style scoped>\n",
       "    .dataframe tbody tr th:only-of-type {\n",
       "        vertical-align: middle;\n",
       "    }\n",
       "\n",
       "    .dataframe tbody tr th {\n",
       "        vertical-align: top;\n",
       "    }\n",
       "\n",
       "    .dataframe thead th {\n",
       "        text-align: right;\n",
       "    }\n",
       "</style>\n",
       "<table border=\"1\" class=\"dataframe\">\n",
       "  <thead>\n",
       "    <tr style=\"text-align: right;\">\n",
       "      <th></th>\n",
       "      <th>Training loss</th>\n",
       "      <th>Validation loss</th>\n",
       "    </tr>\n",
       "    <tr>\n",
       "      <th>epoch</th>\n",
       "      <th></th>\n",
       "      <th></th>\n",
       "    </tr>\n",
       "  </thead>\n",
       "  <tbody>\n",
       "    <tr>\n",
       "      <th>1</th>\n",
       "      <td>3.433633</td>\n",
       "      <td>2.045535</td>\n",
       "    </tr>\n",
       "    <tr>\n",
       "      <th>2</th>\n",
       "      <td>2.222940</td>\n",
       "      <td>1.956597</td>\n",
       "    </tr>\n",
       "    <tr>\n",
       "      <th>3</th>\n",
       "      <td>2.127602</td>\n",
       "      <td>1.910281</td>\n",
       "    </tr>\n",
       "    <tr>\n",
       "      <th>4</th>\n",
       "      <td>2.063479</td>\n",
       "      <td>1.876020</td>\n",
       "    </tr>\n",
       "    <tr>\n",
       "      <th>5</th>\n",
       "      <td>2.017984</td>\n",
       "      <td>1.849883</td>\n",
       "    </tr>\n",
       "    <tr>\n",
       "      <th>6</th>\n",
       "      <td>1.979230</td>\n",
       "      <td>1.829282</td>\n",
       "    </tr>\n",
       "    <tr>\n",
       "      <th>7</th>\n",
       "      <td>1.948722</td>\n",
       "      <td>1.812848</td>\n",
       "    </tr>\n",
       "    <tr>\n",
       "      <th>8</th>\n",
       "      <td>1.924778</td>\n",
       "      <td>1.802867</td>\n",
       "    </tr>\n",
       "    <tr>\n",
       "      <th>9</th>\n",
       "      <td>1.907288</td>\n",
       "      <td>1.796283</td>\n",
       "    </tr>\n",
       "    <tr>\n",
       "      <th>10</th>\n",
       "      <td>1.897412</td>\n",
       "      <td>1.794426</td>\n",
       "    </tr>\n",
       "  </tbody>\n",
       "</table>\n",
       "</div>"
      ],
      "text/plain": [
       "       Training loss  Validation loss\n",
       "epoch                                \n",
       "1           3.433633         2.045535\n",
       "2           2.222940         1.956597\n",
       "3           2.127602         1.910281\n",
       "4           2.063479         1.876020\n",
       "5           2.017984         1.849883\n",
       "6           1.979230         1.829282\n",
       "7           1.948722         1.812848\n",
       "8           1.924778         1.802867\n",
       "9           1.907288         1.796283\n",
       "10          1.897412         1.794426"
      ]
     },
     "metadata": {},
     "output_type": "display_data"
    }
   ],
   "source": [
    "# Print the training and validation losses in a pandas dataframe format\n",
    "display(pd.DataFrame({'epoch':[1,2,3,4,5,6,7,8,9,10], 'Training loss':training_losses, 'Validation loss':validation_losses}).set_index('epoch'))"
   ]
  },
  {
   "cell_type": "markdown",
   "id": "0b77bace",
   "metadata": {},
   "source": [
    "# Test"
   ]
  },
  {
   "cell_type": "code",
   "execution_count": 20,
   "id": "2743cbaf",
   "metadata": {},
   "outputs": [],
   "source": [
    "def generate_description(prompt):\n",
    "    \"\"\" It takes a prompt as input and return the job description\"\"\"\n",
    "    # Encoding the prompt\n",
    "    input_ids = tokenizer(prompt, return_tensors='pt', padding = True, truncation=True)['input_ids'].to(device)\n",
    "\n",
    "    output = model.generate(input_ids, max_length=512) # generates an output\n",
    "\n",
    "    # Decoding the output to get the generated text\n",
    "    decoded_output = [tokenizer.decode(output[0], skip_special_tokens=True)][0]\n",
    "    return decoded_output"
   ]
  },
  {
   "cell_type": "code",
   "execution_count": 30,
   "id": "e3989510",
   "metadata": {},
   "outputs": [
    {
     "name": "stdout",
     "output_type": "stream",
     "text": [
      "prompt :\n",
      "Write a job description for VP, Data Science role proposed by \"Park Data.\", a company founded on 2012.0 that has now a size of 51 to 200 employees and works on Research & Development industry in the Business Services sector. The job proposed is in New York, NY meanwhile the headquarter of the company is in New York, NY. The salary estimate is $111K-$181K \n",
      " \n",
      "model's output :\n",
      "Park Data is an Equal Opportunity employer. We hire women, men and minors to participate in all aspects of the workforce. We employ a diverse workforce to ensure that all qualified candidates are eligible for eligibility. We are committed to diversity and diversity in all our programs. We are looking for a talented, ambitious and motivated individual who is passionate about the work\n"
     ]
    }
   ],
   "source": [
    "# Testing a random prompt from the validation set\n",
    "prompt = datasets['validation'][0]['Prompt']\n",
    "description = generate_description(prompt)\n",
    "\n",
    "print('prompt :')\n",
    "print(prompt)\n",
    "print(' ')\n",
    "print(\"model's output :\")\n",
    "print(description[:-1960])"
   ]
  },
  {
   "cell_type": "code",
   "execution_count": 31,
   "id": "1ed9c685",
   "metadata": {
    "scrolled": false
   },
   "outputs": [
    {
     "name": "stdout",
     "output_type": "stream",
     "text": [
      "prompt :\n",
      "Write a job description for Senior Data Analyst role proposed by \"Smith Hanley Associates.\", a company founded on 1980.0 that has now a size of 1 to 50 employees and works on Staffing & Outsourcing industry in the Business Services sector. The job proposed is in Houston, TX meanwhile the headquarter of the company is in New York, 061. The salary estimate is $138K-$217K \n",
      " \n",
      "model's output :\n",
      "Job Description Senior Data Analyst Location Houston, TX Duration: Fulltime - 12 Months Duration: Fulltime - 12 Months Duration: Full-time\n"
     ]
    }
   ],
   "source": [
    "# Testing another random prompt from the validation set\n",
    "prompt = datasets['validation'][1]['Prompt']\n",
    "description = generate_description(prompt)\n",
    "\n",
    "print('prompt :')\n",
    "print(prompt)\n",
    "print(' ')\n",
    "print(\"model's output :\")\n",
    "print(description)"
   ]
  },
  {
   "cell_type": "code",
   "execution_count": 32,
   "id": "b83b2fa2",
   "metadata": {},
   "outputs": [
    {
     "data": {
      "text/html": [
       "<div>\n",
       "<style scoped>\n",
       "    .dataframe tbody tr th:only-of-type {\n",
       "        vertical-align: middle;\n",
       "    }\n",
       "\n",
       "    .dataframe tbody tr th {\n",
       "        vertical-align: top;\n",
       "    }\n",
       "\n",
       "    .dataframe thead th {\n",
       "        text-align: right;\n",
       "    }\n",
       "</style>\n",
       "<table border=\"1\" class=\"dataframe\">\n",
       "  <thead>\n",
       "    <tr style=\"text-align: right;\">\n",
       "      <th></th>\n",
       "      <th>Job Title</th>\n",
       "      <th>Salary Estimate</th>\n",
       "      <th>Job Description</th>\n",
       "      <th>Rating</th>\n",
       "      <th>Company Name</th>\n",
       "      <th>Location</th>\n",
       "      <th>Headquarters</th>\n",
       "      <th>Size</th>\n",
       "      <th>Founded</th>\n",
       "      <th>Type of ownership</th>\n",
       "      <th>Industry</th>\n",
       "      <th>Sector</th>\n",
       "      <th>Revenue</th>\n",
       "      <th>Competitors</th>\n",
       "      <th>Easy Apply</th>\n",
       "    </tr>\n",
       "  </thead>\n",
       "  <tbody>\n",
       "  </tbody>\n",
       "</table>\n",
       "</div>"
      ],
      "text/plain": [
       "Empty DataFrame\n",
       "Columns: [Job Title, Salary Estimate, Job Description, Rating, Company Name, Location, Headquarters, Size, Founded, Type of ownership, Industry, Sector, Revenue, Competitors, Easy Apply]\n",
       "Index: []"
      ]
     },
     "execution_count": 32,
     "metadata": {},
     "output_type": "execute_result"
    }
   ],
   "source": [
    "# Testing a prompt that is not present even in the original dataset\n",
    "df[df['Company Name'].str.contains('Google') & df['Job Title'].str.contains('Machine Learning intern')]"
   ]
  },
  {
   "cell_type": "code",
   "execution_count": 36,
   "id": "c9b01d0d",
   "metadata": {},
   "outputs": [
    {
     "name": "stdout",
     "output_type": "stream",
     "text": [
      "prompt :\n",
      "Write a job description for Machine Learning Intern role proposed by \"Google\", a company founded on 1998 that has now a size of +200000 employees and works on IT Services industry industry in the Information Technology sector. The job proposed is in New york, NY meanwhile the headquarter of the company is in California. The salary estimate is $50K-$100K\n",
      " \n",
      "model's output :\n",
      "Job Description Google Analytics is looking for a Machine Learning Intern to join their team. The ideal candidate will be a Data Scientist who will work on a variety of data analytics projects. The id\n"
     ]
    }
   ],
   "source": [
    "job_title = 'Machine Learning Intern'\n",
    "company_name = 'Google'\n",
    "year = 1998\n",
    "size = '+200000 employees'\n",
    "industry = 'IT Services industry'\n",
    "sector = 'Information Technology'\n",
    "location = 'New york, NY'\n",
    "headquarter = 'California'\n",
    "salary_estimate = '$50K-$100K'\n",
    "prompt = f'Write a job description for {job_title} role proposed by \"{company_name}\", a company founded on {year} that has now a size of {size} and works on {industry} industry in the {sector} sector. The job proposed is in {location} meanwhile the headquarter of the company is in {headquarter}. The salary estimate is {salary_estimate}'\n",
    "description = generate_description(prompt)\n",
    "\n",
    "print('prompt :')\n",
    "print(prompt)\n",
    "print(' ')\n",
    "print(\"model's output :\")\n",
    "print(description[:200])"
   ]
  }
 ],
 "metadata": {
  "kernelspec": {
   "display_name": "Python 3 (ipykernel)",
   "language": "python",
   "name": "python3"
  },
  "language_info": {
   "codemirror_mode": {
    "name": "ipython",
    "version": 3
   },
   "file_extension": ".py",
   "mimetype": "text/x-python",
   "name": "python",
   "nbconvert_exporter": "python",
   "pygments_lexer": "ipython3",
   "version": "3.11.3"
  }
 },
 "nbformat": 4,
 "nbformat_minor": 5
}
